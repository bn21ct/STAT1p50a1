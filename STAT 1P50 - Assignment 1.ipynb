{
 "cells": [
  {
   "cell_type": "code",
   "execution_count": 4,
   "id": "15e69658",
   "metadata": {},
   "outputs": [],
   "source": [
    "#Below is question 1"
   ]
  },
  {
   "cell_type": "code",
   "execution_count": 10,
   "id": "1e0f736a",
   "metadata": {},
   "outputs": [
    {
     "name": "stdout",
     "output_type": "stream",
     "text": [
      "479001600\n"
     ]
    }
   ],
   "source": [
    "list1=[1,2,3,4,5,6,7,8,9,10,11,12]\n",
    "product=1\n",
    "for item in list1:\n",
    "    product*=item\n",
    "print(product)"
   ]
  },
  {
   "cell_type": "code",
   "execution_count": 5,
   "id": "3fd95654",
   "metadata": {},
   "outputs": [],
   "source": [
    "#Below is question 2"
   ]
  },
  {
   "cell_type": "code",
   "execution_count": 6,
   "id": "2090c571",
   "metadata": {},
   "outputs": [],
   "source": [
    "def ListToDict(list1):\n",
    "    dictionary={}\n",
    "    for element in list1:\n",
    "        dictionary[element] = len(element)\n",
    "    return dictionary\n",
    "            "
   ]
  },
  {
   "cell_type": "code",
   "execution_count": 7,
   "id": "4c0dfe99",
   "metadata": {},
   "outputs": [],
   "source": [
    "list1=['Left','Right','Up','Down']\n"
   ]
  },
  {
   "cell_type": "code",
   "execution_count": 8,
   "id": "d4008bf3",
   "metadata": {},
   "outputs": [
    {
     "data": {
      "text/plain": [
       "{'Left': 4, 'Right': 5, 'Up': 2, 'Down': 4}"
      ]
     },
     "execution_count": 8,
     "metadata": {},
     "output_type": "execute_result"
    }
   ],
   "source": [
    "ListToDict(list1)"
   ]
  },
  {
   "cell_type": "code",
   "execution_count": 9,
   "id": "45d2f438",
   "metadata": {},
   "outputs": [],
   "source": [
    "#Below if question 3"
   ]
  },
  {
   "cell_type": "code",
   "execution_count": 11,
   "id": "67ba478a",
   "metadata": {},
   "outputs": [],
   "source": [
    "def power(x,y):\n",
    "    result=x**y\n",
    "    return(result)"
   ]
  },
  {
   "cell_type": "code",
   "execution_count": 12,
   "id": "63cf10d9",
   "metadata": {},
   "outputs": [],
   "source": [
    "l = [[5,6], [5,7], [4,2], [3,6], [9,8], [1,3], [9,3], [7,1], [5,4], [2,7],\n",
    "[9,1], [9,3], [2,5]]"
   ]
  },
  {
   "cell_type": "code",
   "execution_count": 13,
   "id": "b93c8479",
   "metadata": {},
   "outputs": [
    {
     "name": "stdout",
     "output_type": "stream",
     "text": [
      "15625\n",
      "78125\n",
      "16\n",
      "729\n",
      "43046721\n",
      "1\n",
      "729\n",
      "7\n",
      "625\n",
      "128\n",
      "9\n",
      "729\n",
      "32\n"
     ]
    }
   ],
   "source": [
    "for i in l:\n",
    "    print(power(i[0],i[1]))"
   ]
  },
  {
   "cell_type": "code",
   "execution_count": 14,
   "id": "69f5f63d",
   "metadata": {},
   "outputs": [],
   "source": [
    "#Below is question 4"
   ]
  },
  {
   "cell_type": "code",
   "execution_count": 223,
   "id": "61e2281a",
   "metadata": {},
   "outputs": [],
   "source": [
    "from random import random\n",
    "\n",
    "l = [random() for i in range(20)]\n",
    "x = random()"
   ]
  },
  {
   "cell_type": "code",
   "execution_count": 224,
   "id": "a0b0dcf6",
   "metadata": {},
   "outputs": [
    {
     "data": {
      "text/plain": [
       "[0.09765226337258148,\n",
       " 0.11611865722784254,\n",
       " 0.11983865285666628,\n",
       " 0.13481673252319104,\n",
       " 0.18594004684425236,\n",
       " 0.1906759096204801,\n",
       " 0.2228030280709935,\n",
       " 0.24386657092617348,\n",
       " 0.2766341731503249,\n",
       " 0.2839075654546557,\n",
       " 0.3032845364176552,\n",
       " 0.39467856738582685,\n",
       " 0.43400312173580513,\n",
       " 0.44175338495002914,\n",
       " 0.4440850724406158,\n",
       " 0.5374293196140797,\n",
       " 0.6283304099080537,\n",
       " 0.8086705645577081,\n",
       " 0.9438435264802633,\n",
       " 0.9789822390765436]"
      ]
     },
     "execution_count": 224,
     "metadata": {},
     "output_type": "execute_result"
    }
   ],
   "source": [
    "sorted(l)"
   ]
  },
  {
   "cell_type": "code",
   "execution_count": 225,
   "id": "db6f85c9",
   "metadata": {},
   "outputs": [],
   "source": [
    "sortedlist=sorted(l)"
   ]
  },
  {
   "cell_type": "code",
   "execution_count": 226,
   "id": "a185e8bd",
   "metadata": {},
   "outputs": [
    {
     "name": "stdout",
     "output_type": "stream",
     "text": [
      "0.9009190021124359\n"
     ]
    }
   ],
   "source": [
    "print(x)"
   ]
  },
  {
   "cell_type": "code",
   "execution_count": 227,
   "id": "a5972433",
   "metadata": {},
   "outputs": [
    {
     "name": "stdout",
     "output_type": "stream",
     "text": [
      "0.9438435264802633\n",
      "The index of the value equal to or greater than x is 19\n"
     ]
    }
   ],
   "source": [
    "counter=0\n",
    "for i in sortedlist:\n",
    "    counter=counter+1\n",
    "    if (x<=i):\n",
    "        print(i)\n",
    "        break\n",
    "print('The index of the value equal to or greater than x is', counter)"
   ]
  },
  {
   "cell_type": "code",
   "execution_count": 228,
   "id": "b6fc4587",
   "metadata": {},
   "outputs": [],
   "source": [
    "#Below is question 5"
   ]
  },
  {
   "cell_type": "code",
   "execution_count": 229,
   "id": "c2e52f6a",
   "metadata": {},
   "outputs": [],
   "source": [
    "import math\n",
    "def AreaCoverage(radius1,radius2): \n",
    "    areaofcircle1=(radius1**2)*math.pi\n",
    "    areaofcircle2=(radius2**2)*math.pi\n",
    "    if areaofcircle1<areaofcircle2:\n",
    "        areaPercentage=(areaofcircle1/areaofcircle2)*100\n",
    "    else:\n",
    "        areaPercentage=(areaofcircle2/areaofcircle1)*100\n",
    "    return(areaPercentage)"
   ]
  },
  {
   "cell_type": "code",
   "execution_count": 230,
   "id": "93442d7c",
   "metadata": {},
   "outputs": [
    {
     "data": {
      "text/plain": [
       "44.44444444444444"
      ]
     },
     "execution_count": 230,
     "metadata": {},
     "output_type": "execute_result"
    }
   ],
   "source": [
    "AreaCoverage(3,2)"
   ]
  },
  {
   "cell_type": "code",
   "execution_count": 231,
   "id": "e2bdb491",
   "metadata": {},
   "outputs": [],
   "source": [
    "#Below is question 6"
   ]
  },
  {
   "cell_type": "code",
   "execution_count": null,
   "id": "33fa176a",
   "metadata": {},
   "outputs": [],
   "source": [
    "def proportion(list1)\n",
    "for element in list1:\n",
    "    "
   ]
  },
  {
   "cell_type": "code",
   "execution_count": 238,
   "id": "0da63935",
   "metadata": {},
   "outputs": [],
   "source": [
    "#Below is question 7"
   ]
  },
  {
   "cell_type": "code",
   "execution_count": 239,
   "id": "3b3c328c",
   "metadata": {},
   "outputs": [],
   "source": [
    "#Below is question 8"
   ]
  },
  {
   "cell_type": "code",
   "execution_count": 240,
   "id": "65e552ce",
   "metadata": {},
   "outputs": [],
   "source": [
    "dict1={'A':[1,2,2,1],'B':[3.1,4.2,1.5,6.3],'C':[800,150,400,210]}"
   ]
  },
  {
   "cell_type": "code",
   "execution_count": 241,
   "id": "e70ab47d",
   "metadata": {},
   "outputs": [
    {
     "name": "stdout",
     "output_type": "stream",
     "text": [
      "   A    B    C\n",
      "0  1  3.1  800\n",
      "1  2  4.2  150\n",
      "2  2  1.5  400\n",
      "3  1  6.3  210\n"
     ]
    }
   ],
   "source": [
    "import pandas as pd\n",
    "\n",
    "data=pd.DataFrame(dict1)\n",
    "print(data)"
   ]
  },
  {
   "cell_type": "code",
   "execution_count": null,
   "id": "2e150993",
   "metadata": {},
   "outputs": [],
   "source": []
  }
 ],
 "metadata": {
  "kernelspec": {
   "display_name": "Python 3 (ipykernel)",
   "language": "python",
   "name": "python3"
  },
  "language_info": {
   "codemirror_mode": {
    "name": "ipython",
    "version": 3
   },
   "file_extension": ".py",
   "mimetype": "text/x-python",
   "name": "python",
   "nbconvert_exporter": "python",
   "pygments_lexer": "ipython3",
   "version": "3.9.12"
  }
 },
 "nbformat": 4,
 "nbformat_minor": 5
}
